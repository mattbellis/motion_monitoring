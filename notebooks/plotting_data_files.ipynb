{
 "cells": [
  {
   "cell_type": "code",
   "execution_count": null,
   "metadata": {},
   "outputs": [],
   "source": [
    "import numpy as np\n",
    "import matplotlib.pylab as plt\n",
    "\n",
    "%matplotlib notebook"
   ]
  },
  {
   "cell_type": "code",
   "execution_count": null,
   "metadata": {},
   "outputs": [],
   "source": [
    "def get_accels(infilename):\n",
    "    vals = np.loadtxt(infilename,dtype=str,unpack=True)\n",
    "\n",
    "    #print(vals)\n",
    "\n",
    "    ms = vals[0].astype(float)\n",
    "    ax = vals[3].astype(float)\n",
    "    ay = vals[4].astype(float)\n",
    "    az = vals[5].astype(float)\n",
    "\n",
    "    amag = np.sqrt(ax*ax + ay*ay + az*az)\n",
    "    \n",
    "    return ms,ax,ay,az,amag"
   ]
  },
  {
   "cell_type": "code",
   "execution_count": null,
   "metadata": {},
   "outputs": [],
   "source": [
    "infilename = '../data/SLOWWALK.TXT'\n",
    "\n",
    "ms,ax,ay,az,amag = get_accels(infilename)\n"
   ]
  },
  {
   "cell_type": "code",
   "execution_count": null,
   "metadata": {},
   "outputs": [],
   "source": [
    "plt.figure(figsize=(14,8))\n",
    "\n",
    "plt.subplot(2,1,1)\n",
    "plt.plot(ms,ax,'.')\n",
    "plt.plot(ms,ay,'.')\n",
    "plt.plot(ms,az,'.')\n",
    "plt.xlabel('Time (ms)')\n",
    "plt.ylabel(r'Acceleration (m/s^{2})')\n",
    "\n",
    "\n",
    "plt.subplot(2,1,2)\n",
    "plt.plot(ms,amag,'.')\n",
    "\n",
    "\n"
   ]
  },
  {
   "cell_type": "code",
   "execution_count": null,
   "metadata": {},
   "outputs": [],
   "source": [
    "infilenames = ['STUMWALK.TXT', 'SLOWWALK.TXT','FASTWALK.TXT','BELWALK1.TXT','BELWALK1.TXT','BELWALK3.TXT']"
   ]
  },
  {
   "cell_type": "code",
   "execution_count": null,
   "metadata": {
    "scrolled": false
   },
   "outputs": [],
   "source": [
    "datadir = '../data/'\n",
    "\n",
    "for infilename in infilenames:\n",
    "    filename = \"%s/%s\" % (datadir,infilename)\n",
    "    \n",
    "    ms,ax,ay,az,amag = get_accels(filename)\n",
    "    \n",
    "    plt.figure(figsize=(14,8))\n",
    "\n",
    "    plt.subplot(2,1,1)\n",
    "    plt.title(infilename)\n",
    "\n",
    "    plt.plot(ms,ax,'.')\n",
    "    plt.plot(ms,ay,'.')\n",
    "    plt.plot(ms,az,'.')\n",
    "    plt.xlabel('Time (ms)')\n",
    "    plt.ylabel(r'Acceleration (m/s$^{2}$)')\n",
    "    plt.ylim(-5,20)\n",
    "\n",
    "\n",
    "    plt.subplot(2,1,2)\n",
    "    plt.plot(ms,amag,'.')\n",
    "    plt.xlabel('Time (ms)')\n",
    "    plt.ylabel(r'Acceleration (m/s$^{2}$)')\n",
    "    plt.ylim(0,20)"
   ]
  },
  {
   "cell_type": "code",
   "execution_count": null,
   "metadata": {},
   "outputs": [],
   "source": []
  }
 ],
 "metadata": {
  "kernelspec": {
   "display_name": "Python 3",
   "language": "python",
   "name": "python3"
  },
  "language_info": {
   "codemirror_mode": {
    "name": "ipython",
    "version": 3
   },
   "file_extension": ".py",
   "mimetype": "text/x-python",
   "name": "python",
   "nbconvert_exporter": "python",
   "pygments_lexer": "ipython3",
   "version": "3.6.4"
  }
 },
 "nbformat": 4,
 "nbformat_minor": 2
}
